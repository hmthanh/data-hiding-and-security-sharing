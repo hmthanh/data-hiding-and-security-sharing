{
 "cells": [
  {
   "cell_type": "markdown",
   "metadata": {},
   "source": [
    "# Demo phương pháp dùng khoảng trắng cuối mỗi dòng"
   ]
  },
  {
   "cell_type": "code",
   "execution_count": 24,
   "metadata": {},
   "outputs": [],
   "source": [
    "from bitarray import bitarray"
   ]
  },
  {
   "cell_type": "code",
   "execution_count": 25,
   "metadata": {},
   "outputs": [],
   "source": [
    "msg_file = 'msg.txt'\n",
    "cover_text_file = 'cover.txt'\n",
    "text_width = 70\n",
    "stego_text_file = 'stego.txt'"
   ]
  },
  {
   "cell_type": "code",
   "execution_count": 26,
   "metadata": {},
   "outputs": [
    {
     "name": "stdout",
     "output_type": "stream",
     "text": [
      "['Hello Allice,', '', 'Have you heard about steganography? I find it very interesting and', 'want to share with you. Below is the introduction from Wiki.', '', 'Steganography is the practice of concealing a file, message, image, or', 'video within another file, message, image, or video. The word', 'steganography combines the Greek words steganos, meaning \"covered,', 'concealed, or protected,\" and graphein meaning \"writing\".', '', 'The first recorded use of the term was in 1499 by Johannes Trithemius', 'in his Steganographia, a treatise on cryptography and steganography,', 'disguised as a book on magic. Generally, the hidden messages appear to', 'be (or be part of) something else: images, articles, shopping lists,', 'or some other cover text. For example, the hidden message may be in', 'invisible ink between the visible lines of a private letter. Some', 'implementations of steganography that lack a shared secret are forms', 'of security through obscurity, and key-dependent steganographic', \"schemes adhere to Kerckhoffs's principle.\", '', 'The advantage of steganography over cryptography alone is that the', 'intended secret message does not attract attention to itself as an', 'object of scrutiny. Plainly visible encrypted messages, no matter how', 'unbreakable they are, arouse interest and may in themselves be', 'incriminating in countries in which encryption is illegal.', '', 'Whereas cryptography is the practice of protecting the contents of a', 'message alone, steganography is concerned with concealing the fact', 'that a secret message is being sent as well as concealing the contents', 'of the message.', '', 'Steganography includes the concealment of information within computer', 'files. In digital steganography, electronic communications may include', 'steganographic coding inside of a transport layer, such as a document', 'file, image file, program or protocol. Media files are ideal for', 'steganographic transmission because of their large size. For example,', 'a sender might start with an innocuous image file and adjust the color', 'of every hundredth pixel to correspond to a letter in the alphabet.', 'The change is so subtle that someone who is not specifically looking', 'for it is unlikely to notice the change.', '', 'The first recorded uses of steganography can be traced back to 440 BC', 'when Herodotus mentions two examples in his Histories. Histiaeus sent', 'a message to his vassal, Aristagoras, by shaving the head of his most', 'trusted servant, \"marking\" the message onto his scalp, then sending', 'him on his way once his hair had regrown, with the instruction, \"When', 'thou art come to Miletus, bid Aristagoras shave thy head, and look', 'thereon.\" Additionally, Demaratus sent a warning about a forthcoming', 'attack to Greece by writing it directly on the wooden backing of a wax', 'tablet before applying its beeswax surface. Wax tablets were in common', 'use then as reusable writing surfaces, sometimes used for shorthand.', '', 'In his work Polygraphiae Johannes Trithemius developed his so-called', '\"Ave-Maria-Cipher\" that can hide information in a Latin praise of God.', '\"Auctor Sapientissimus Conseruans Angelica Deferat Nobis Charitas', 'Potentissimi Creatoris\" for example contains the concealed word', 'VICIPEDIA.', '', 'Bob']\n",
      "msg : hmthanh\n"
     ]
    }
   ],
   "source": [
    "# Read cover text file\n",
    "with open(cover_text_file, 'r') as f:\n",
    "    cover_text_lines = f.read().splitlines()\n",
    "    print(cover_text_lines)\n",
    "\n",
    "# Read msg file\n",
    "with open(msg_file, 'r') as f:\n",
    "    msg = f.read()\n",
    "    print(\"msg :\", msg)"
   ]
  },
  {
   "cell_type": "code",
   "execution_count": 27,
   "metadata": {},
   "outputs": [
    {
     "name": "stdout",
     "output_type": "stream",
     "text": [
      "stego_text : \" Hello Allice,\n",
      "\n",
      "Have  you heard about  steganography? I  find  it very interesting and\n",
      "want  to  share  with  you.  Below  is  the  introduction  from  Wiki.\n",
      "\n",
      "Steganography is the practice of concealing a file, message, image, or\n",
      "video  within  another  file,  message,  image,  or  video.  The  word\n",
      "steganography combines  the  Greek words  steganos, meaning  \"covered,\n",
      "concealed, or protected,\" and graphein meaning \"writing\".\n",
      "\n",
      "The  first recorded use of the term was in 1499 by Johannes Trithemius\n",
      "in  his Steganographia, a  treatise on cryptography and steganography,\n",
      "disguised as a book on magic. Generally, the hidden messages appear to\n",
      "be (or  be  part of) something else: images, articles, shopping lists,\n",
      "or some  other cover  text.  For example, the hidden message may be in\n",
      "invisible ink  between  the visible lines  of a  private letter.  Some\n",
      "implementations  of steganography that  lack a shared secret are forms\n",
      "of security through obscurity, and key-dependent steganographic\n",
      "schemes adhere to Kerckhoffs's principle.\n",
      "\n",
      "The  advantage of  steganography over  cryptography alone is  that the\n",
      "intended secret  message  does not attract  attention  to itself as an\n",
      "object  of scrutiny. Plainly visible encrypted messages, no matter how\n",
      "unbreakable  they are,  arouse  interest  and  may  in  themselves  be\n",
      "incriminating in countries in which encryption is illegal.\n",
      "\n",
      "Whereas  cryptography is the  practice of protecting the contents of a\n",
      "message alone,  steganography  is concerned  with concealing  the fact\n",
      "that a secret message is being sent as well as concealing the contents\n",
      "of the message.\n",
      "\n",
      "Steganography  includes the concealment of information within computer\n",
      "files. In digital steganography, electronic communications may include\n",
      "steganographic coding  inside of a transport layer, such as a document\n",
      "file,  image file, program  or protocol.  Media  files are  ideal  for\n",
      "steganographic transmission  because of their large size. For example,\n",
      "a sender might start with an innocuous image file and adjust the color\n",
      "of every  hundredth pixel  to  correspond to a letter in the alphabet.\n",
      "The  change is so  subtle that someone who is not specifically looking\n",
      "for it is unlikely to notice the change.\n",
      "\n",
      "The first  recorded uses of steganography can be traced back to 440 BC\n",
      "when  Herodotus mentions two examples in his Histories. Histiaeus sent\n",
      "a message  to his vassal, Aristagoras, by shaving the head of his most\n",
      "trusted  servant, \"marking\"  the message  onto his scalp, then sending\n",
      "him on  his way once his hair had regrown, with the instruction, \"When\n",
      "thou  art come  to Miletus,  bid Aristagoras  shave thy head, and look\n",
      "thereon.\"  Additionally, Demaratus  sent a warning about a forthcoming\n",
      "attack to Greece by writing it directly on the wooden backing of a wax\n",
      "tablet before applying its beeswax surface. Wax tablets were in common\n",
      "use  then as  reusable writing surfaces, sometimes used for shorthand.\n",
      "\n",
      "In  his work  Polygraphiae Johannes Trithemius developed his so-called\n",
      "\"Ave-Maria-Cipher\" that can hide information in a Latin praise of God.\n",
      "\"Auctor  Sapientissimus Conseruans  Angelica  Deferat  Nobis  Charitas\n",
      "Potentissimi  Creatoris\"  for  example  contains  the  concealed  word\n",
      "VICIPEDIA.\n",
      "\n",
      "Bob\n",
      " \"\n"
     ]
    }
   ],
   "source": [
    "# Convert msg to msg bits\n",
    "msg_bits = bitarray()\n",
    "msg_bits.fromstring(msg)\n",
    "\n",
    "# Embed msg bits into cover text lines\n",
    "stego_text = ''\n",
    "b = 0\n",
    "is_set_end_bit = False\n",
    "\n",
    "for line in cover_text_lines:\n",
    "    words = line.split(\" \")\n",
    "    n_words = len(words)\n",
    "    spaces = [\" \"] * (n_words - 1)\n",
    "    n_spaces = n_words - 1\n",
    "\n",
    "    n_align_space = text_width - len(line)\n",
    "    if 0 < n_align_space < n_spaces:\n",
    "        n_bit_spaces = min(n_align_space, n_spaces - n_align_space)\n",
    "\n",
    "        # insert msg_bits to number available of bit spaces\n",
    "        for i in range(0, n_bit_spaces * 2, 2):\n",
    "            # Default embed bit 0 = (i)\"  \" + (i+1)\" \"\n",
    "            index_insert_align_space = i\n",
    "            if b < msg_bits.length():\n",
    "                # embed bit in message bits\n",
    "                index_insert_align_space = i + msg_bits[b]\n",
    "                b += 1\n",
    "            elif b >= msg_bits.length() and not is_set_end_bit:\n",
    "                # embed bit 1 = (i)\" \" + (i+1)\"  \"\n",
    "                is_set_end_bit = True\n",
    "                index_insert_align_space = i + 1\n",
    "            spaces[index_insert_align_space] = \"  \"\n",
    "        # insert normally space to alignment\n",
    "        for i in range(n_align_space - n_bit_spaces):\n",
    "            spaces[n_bit_spaces * 2 + i] = \"  \"\n",
    "    elif n_align_space == n_spaces:\n",
    "        spaces = [\"  \"] * n_spaces\n",
    "\n",
    "    # Cast words and spaces to get stego line\n",
    "    new_line = [words[i] + spaces[i] for i in range(0, n_spaces)] + words[n_spaces:]\n",
    "    stego_text += \"\".join(new_line) + \"\\n\"\n",
    "if b < len(msg_bits) or not is_set_end_bit:\n",
    "    print('Not enough spaces to embed!')\n",
    "\n",
    "# Write stego text to file\n",
    "with open(stego_text_file, 'w') as f:\n",
    "    f.write(stego_text)\n",
    "    print(\"stego_text : \\\"\", stego_text, \"\\\"\")"
   ]
  },
  {
   "cell_type": "code",
   "execution_count": 28,
   "metadata": {},
   "outputs": [],
   "source": [
    "def splitStego(line):\n",
    "    if line == '':\n",
    "        return [''], []\n",
    "    spaces = []\n",
    "    for i in range(len(line)):\n",
    "        if line[i] == \" \":\n",
    "            if line[i + 1] == \" \":\n",
    "                spaces.append(\"  \")\n",
    "            elif line[i - 1] != \" \":\n",
    "                spaces.append(\" \")\n",
    "    return spaces\n",
    "\n",
    "\n",
    "def extract(stego_text_file, text_width, extr_msg_file):\n",
    "    # Read stego text file\n",
    "    with open(stego_text_file, 'r') as f:\n",
    "        stego_text_lines = f.read().splitlines()\n",
    "\n",
    "    # Extract msg bits\n",
    "    extra_msg_bits = bitarray()\n",
    "    for line in stego_text_lines:\n",
    "        n_align_space = text_width - len(line.replace(\"  \", \" \"))\n",
    "        spaces = splitStego(line)\n",
    "        n_spaces = len(spaces)\n",
    "\n",
    "        if 0 < n_align_space < n_spaces:\n",
    "            for i in range(0, int(n_spaces / 2)):\n",
    "                first_space = spaces[i * 2]\n",
    "                last_space = spaces[i * 2 + 1]\n",
    "                if first_space == \" \" and last_space == \"  \":\n",
    "                    extra_msg_bits.append(True)\n",
    "                elif first_space == \"  \" and last_space == \" \":\n",
    "                    extra_msg_bits.append(False)\n",
    "                else:\n",
    "                    break\n",
    "\n",
    "    # Convert extracted msg bits to msg\n",
    "    reserve_msg_bits = bitarray(extra_msg_bits)\n",
    "    reserve_msg_bits.reverse()\n",
    "    index_final_bit = reserve_msg_bits.index(1)\n",
    "    extra_msg_bits = extra_msg_bits[:extra_msg_bits.length() - index_final_bit-1]\n",
    "    extra_msg = extra_msg_bits.tostring()\n",
    "\n",
    "    # Write extracted msg to file\n",
    "    with open(extr_msg_file, 'w') as f:\n",
    "        f.write(extra_msg)\n",
    "        print(extra_msg)"
   ]
  },
  {
   "cell_type": "code",
   "execution_count": 29,
   "metadata": {},
   "outputs": [
    {
     "name": "stdout",
     "output_type": "stream",
     "text": [
      "hmthanh\n"
     ]
    }
   ],
   "source": [
    "extract('stego.txt', 70, 'extr_msg.txt')"
   ]
  },
  {
   "cell_type": "code",
   "execution_count": null,
   "metadata": {},
   "outputs": [],
   "source": []
  }
 ],
 "metadata": {
  "kernelspec": {
   "display_name": "Python 3",
   "language": "python",
   "name": "python3"
  },
  "language_info": {
   "codemirror_mode": {
    "name": "ipython",
    "version": 3
   },
   "file_extension": ".py",
   "mimetype": "text/x-python",
   "name": "python",
   "nbconvert_exporter": "python",
   "pygments_lexer": "ipython3",
   "version": "3.7.5"
  }
 },
 "nbformat": 4,
 "nbformat_minor": 4
}
