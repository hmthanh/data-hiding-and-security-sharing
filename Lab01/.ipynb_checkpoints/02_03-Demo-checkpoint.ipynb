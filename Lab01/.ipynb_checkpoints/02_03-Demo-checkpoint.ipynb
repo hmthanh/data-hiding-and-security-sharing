{
 "cells": [
  {
   "cell_type": "markdown",
   "metadata": {},
   "source": [
    "# Demo phương pháp dùng khoảng trắng cuối mỗi dòng"
   ]
  },
  {
   "cell_type": "code",
   "execution_count": 1,
   "metadata": {},
   "outputs": [],
   "source": [
    "from bitarray import bitarray"
   ]
  },
  {
   "cell_type": "code",
   "execution_count": 23,
   "metadata": {},
   "outputs": [
    {
     "name": "stdout",
     "output_type": "stream",
     "text": [
      "Hello Allice, 2 5 .....\n",
      " 1 5 .....\n",
      "Have you heard about steganography? I find it very interesting and 11 10 .....\n",
      "want to share with you. Below is the introduction from Wiki. 11 10 .....\n",
      " 1 5 .....\n",
      "Steganography is the practice of concealing a file, message, image, or 11 10 .....\n",
      "video within another file, message, image, or video. The word 10 9 .....\n",
      "steganography combines the Greek words steganos, meaning \"covered, 8 7 .....\n",
      "concealed, or protected,\" and graphein meaning \"writing\". 7 5 .....\n",
      " 1 5 .....\n",
      "The first recorded use of the term was in 1499 by Johannes Trithemius 13 12 .....\n",
      "in his Steganographia, a treatise on cryptography and steganography, 9 8 .....\n",
      "disguised as a book on magic. Generally, the hidden messages appear to 12 11 .....\n",
      "be (or be part of) something else: images, articles, shopping lists, 11 10 .....\n",
      "or some other cover text. For example, the hidden message may be in 13 12 .....\n",
      "invisible ink between the visible lines of a private letter. Some 11 10 .....\n",
      "implementations of steganography that lack a shared secret are forms 10 9 .....\n",
      "of security through obscurity, and key-dependent steganographic 7 3 .....\n"
     ]
    },
    {
     "ename": "IndexError",
     "evalue": "list index out of range",
     "output_type": "error",
     "traceback": [
      "\u001b[1;31m---------------------------------------------------------------------------\u001b[0m",
      "\u001b[1;31mIndexError\u001b[0m                                Traceback (most recent call last)",
      "\u001b[1;32m<ipython-input-23-cfc480680a90>\u001b[0m in \u001b[0;36m<module>\u001b[1;34m\u001b[0m\n\u001b[0;32m     46\u001b[0m     \u001b[1;32mreturn\u001b[0m \u001b[1;32mTrue\u001b[0m\u001b[1;33m\u001b[0m\u001b[1;33m\u001b[0m\u001b[0m\n\u001b[0;32m     47\u001b[0m \u001b[1;33m\u001b[0m\u001b[0m\n\u001b[1;32m---> 48\u001b[1;33m \u001b[0membed\u001b[0m\u001b[1;33m(\u001b[0m\u001b[1;34m'msg.txt'\u001b[0m\u001b[1;33m,\u001b[0m \u001b[1;34m'cover.txt'\u001b[0m\u001b[1;33m,\u001b[0m \u001b[1;36m70\u001b[0m\u001b[1;33m,\u001b[0m \u001b[1;34m'stego.txt'\u001b[0m\u001b[1;33m)\u001b[0m\u001b[1;33m\u001b[0m\u001b[1;33m\u001b[0m\u001b[0m\n\u001b[0m",
      "\u001b[1;32m<ipython-input-23-cfc480680a90>\u001b[0m in \u001b[0;36membed\u001b[1;34m(msg_file, cover_text_file, text_width, stego_text_file)\u001b[0m\n\u001b[0;32m     35\u001b[0m         \u001b[1;31m# Cast words and spaces to get stego line\u001b[0m\u001b[1;33m\u001b[0m\u001b[1;33m\u001b[0m\u001b[1;33m\u001b[0m\u001b[0m\n\u001b[0;32m     36\u001b[0m         \u001b[0mprint\u001b[0m\u001b[1;33m(\u001b[0m\u001b[0mline\u001b[0m\u001b[1;33m,\u001b[0m \u001b[0mlen\u001b[0m\u001b[1;33m(\u001b[0m\u001b[0mwords\u001b[0m\u001b[1;33m)\u001b[0m\u001b[1;33m,\u001b[0m \u001b[0mlen\u001b[0m\u001b[1;33m(\u001b[0m\u001b[0mspaces\u001b[0m\u001b[1;33m)\u001b[0m\u001b[1;33m,\u001b[0m \u001b[1;34m\".....\"\u001b[0m\u001b[1;33m)\u001b[0m\u001b[1;33m\u001b[0m\u001b[1;33m\u001b[0m\u001b[0m\n\u001b[1;32m---> 37\u001b[1;33m         \u001b[0mstego_text\u001b[0m \u001b[1;33m+=\u001b[0m \u001b[0mstr\u001b[0m\u001b[1;33m(\u001b[0m\u001b[1;33m[\u001b[0m\u001b[0mwords\u001b[0m\u001b[1;33m[\u001b[0m\u001b[0mi\u001b[0m\u001b[1;33m]\u001b[0m \u001b[1;33m+\u001b[0m \u001b[0mspaces\u001b[0m\u001b[1;33m[\u001b[0m\u001b[0mi\u001b[0m\u001b[1;33m]\u001b[0m \u001b[1;32mfor\u001b[0m \u001b[0mi\u001b[0m \u001b[1;32min\u001b[0m \u001b[0mrange\u001b[0m\u001b[1;33m(\u001b[0m\u001b[1;36m0\u001b[0m\u001b[1;33m,\u001b[0m \u001b[0mn_words\u001b[0m \u001b[1;33m-\u001b[0m \u001b[1;36m2\u001b[0m\u001b[1;33m)\u001b[0m\u001b[1;33m]\u001b[0m \u001b[1;33m+\u001b[0m \u001b[0mwords\u001b[0m\u001b[1;33m[\u001b[0m\u001b[0mn_spaces\u001b[0m\u001b[1;33m:\u001b[0m\u001b[1;33m]\u001b[0m\u001b[1;33m)\u001b[0m\u001b[1;33m\u001b[0m\u001b[1;33m\u001b[0m\u001b[0m\n\u001b[0m\u001b[0;32m     38\u001b[0m         \u001b[0mstego_text\u001b[0m \u001b[1;33m+=\u001b[0m \u001b[1;34m'\\n'\u001b[0m\u001b[1;33m\u001b[0m\u001b[1;33m\u001b[0m\u001b[0m\n\u001b[0;32m     39\u001b[0m     \u001b[1;32mif\u001b[0m \u001b[0mb\u001b[0m \u001b[1;33m<\u001b[0m \u001b[0mlen\u001b[0m\u001b[1;33m(\u001b[0m\u001b[0mmsg_bits\u001b[0m\u001b[1;33m)\u001b[0m\u001b[1;33m:\u001b[0m\u001b[1;33m\u001b[0m\u001b[1;33m\u001b[0m\u001b[0m\n",
      "\u001b[1;32m<ipython-input-23-cfc480680a90>\u001b[0m in \u001b[0;36m<listcomp>\u001b[1;34m(.0)\u001b[0m\n\u001b[0;32m     35\u001b[0m         \u001b[1;31m# Cast words and spaces to get stego line\u001b[0m\u001b[1;33m\u001b[0m\u001b[1;33m\u001b[0m\u001b[1;33m\u001b[0m\u001b[0m\n\u001b[0;32m     36\u001b[0m         \u001b[0mprint\u001b[0m\u001b[1;33m(\u001b[0m\u001b[0mline\u001b[0m\u001b[1;33m,\u001b[0m \u001b[0mlen\u001b[0m\u001b[1;33m(\u001b[0m\u001b[0mwords\u001b[0m\u001b[1;33m)\u001b[0m\u001b[1;33m,\u001b[0m \u001b[0mlen\u001b[0m\u001b[1;33m(\u001b[0m\u001b[0mspaces\u001b[0m\u001b[1;33m)\u001b[0m\u001b[1;33m,\u001b[0m \u001b[1;34m\".....\"\u001b[0m\u001b[1;33m)\u001b[0m\u001b[1;33m\u001b[0m\u001b[1;33m\u001b[0m\u001b[0m\n\u001b[1;32m---> 37\u001b[1;33m         \u001b[0mstego_text\u001b[0m \u001b[1;33m+=\u001b[0m \u001b[0mstr\u001b[0m\u001b[1;33m(\u001b[0m\u001b[1;33m[\u001b[0m\u001b[0mwords\u001b[0m\u001b[1;33m[\u001b[0m\u001b[0mi\u001b[0m\u001b[1;33m]\u001b[0m \u001b[1;33m+\u001b[0m \u001b[0mspaces\u001b[0m\u001b[1;33m[\u001b[0m\u001b[0mi\u001b[0m\u001b[1;33m]\u001b[0m \u001b[1;32mfor\u001b[0m \u001b[0mi\u001b[0m \u001b[1;32min\u001b[0m \u001b[0mrange\u001b[0m\u001b[1;33m(\u001b[0m\u001b[1;36m0\u001b[0m\u001b[1;33m,\u001b[0m \u001b[0mn_words\u001b[0m \u001b[1;33m-\u001b[0m \u001b[1;36m2\u001b[0m\u001b[1;33m)\u001b[0m\u001b[1;33m]\u001b[0m \u001b[1;33m+\u001b[0m \u001b[0mwords\u001b[0m\u001b[1;33m[\u001b[0m\u001b[0mn_spaces\u001b[0m\u001b[1;33m:\u001b[0m\u001b[1;33m]\u001b[0m\u001b[1;33m)\u001b[0m\u001b[1;33m\u001b[0m\u001b[1;33m\u001b[0m\u001b[0m\n\u001b[0m\u001b[0;32m     38\u001b[0m         \u001b[0mstego_text\u001b[0m \u001b[1;33m+=\u001b[0m \u001b[1;34m'\\n'\u001b[0m\u001b[1;33m\u001b[0m\u001b[1;33m\u001b[0m\u001b[0m\n\u001b[0;32m     39\u001b[0m     \u001b[1;32mif\u001b[0m \u001b[0mb\u001b[0m \u001b[1;33m<\u001b[0m \u001b[0mlen\u001b[0m\u001b[1;33m(\u001b[0m\u001b[0mmsg_bits\u001b[0m\u001b[1;33m)\u001b[0m\u001b[1;33m:\u001b[0m\u001b[1;33m\u001b[0m\u001b[1;33m\u001b[0m\u001b[0m\n",
      "\u001b[1;31mIndexError\u001b[0m: list index out of range"
     ]
    }
   ],
   "source": [
    "def embed(msg_file, cover_text_file, text_width, stego_text_file):\n",
    "    # Read cover text file\n",
    "    with open(cover_text_file, 'r') as f:\n",
    "        cover_text_lines = f.read().splitlines()\n",
    "\n",
    "    # Read msg file\n",
    "    with open(msg_file, 'r') as f:\n",
    "        msg = f.read()\n",
    "    \n",
    "    # Convert msg to msg bits\n",
    "    msg_bits = bitarray()\n",
    "    msg_bits.fromstring(msg)\n",
    "    \n",
    "    # Embed msg bits into cover text lines\n",
    "    stego_text = ''\n",
    "    b = 0\n",
    "    for line in cover_text_lines:\n",
    "        words = line.split(\" \")\n",
    "        n_words = len(words)\n",
    "        spaces = [\" \"] * (n_words - 1)\n",
    "        n_spaces = n_words - 1\n",
    "        \n",
    "        n_align_space = text_width - len(line)\n",
    "        if 0 < n_align_space and n_align_space <= n_spaces:\n",
    "            n_bit_spaces = min(n_align_space, n_spaces-n_align_space)\n",
    "            # n_bit_spaces : number of space can insert \n",
    "            for i in range(n_bit_spaces):\n",
    "                bits = msg_bits[b] if 0 else 1\n",
    "                spaces[i*2 + bits] = ' ' * bits\n",
    "                b += 1\n",
    "        elif n_align_space >= n_spaces:\n",
    "            spaces[:n_align_space - n_spaces] = \" \" * 3\n",
    "            spaces[n_align_space - n_spaces:] = \" \" * 2\n",
    "            \n",
    "        # Cast words and spaces to get stego line\n",
    "        print(line, len(words), len(spaces), \".....\")\n",
    "        stego_text += str([words[i] + spaces[i] for i in range(0, n_words - 2)] + words[n_spaces:])\n",
    "        stego_text += '\\n'\n",
    "    if b < len(msg_bits):\n",
    "        print('Not enough spaces to embed!')\n",
    "        return False\n",
    "    \n",
    "    # Write stego text to file\n",
    "    with open(stego_text_file, 'w') as f:\n",
    "        f.write(stego_text)\n",
    "    return True\n",
    "\n",
    "embed('msg.txt', 'cover.txt', 70, 'stego.txt')"
   ]
  },
  {
   "cell_type": "code",
   "execution_count": 3,
   "metadata": {},
   "outputs": [],
   "source": [
    "def extract(stego_text_file, extr_msg_file):\n",
    "    # Read stego text file\n",
    "    with open(stego_text_file, 'r') as f:\n",
    "        stego_text_lines = f.read().splitlines()\n",
    "    \n",
    "    # Extract msg bits\n",
    "    extr_msg_bits = bitarray()\n",
    "    for line in stego_text_lines:\n",
    "        if line[-2:] == '  ':\n",
    "            extr_msg_bits.append(True)\n",
    "        elif line[-1:] == ' ':\n",
    "            extr_msg_bits.append(False)\n",
    "    \n",
    "    # Convert extracted msg bits to msg\n",
    "    extr_msg = extr_msg_bits.tostring()\n",
    "    \n",
    "    # Write extracted msg to file\n",
    "    with open(extr_msg_file, 'w') as f:\n",
    "        f.write(extr_msg)\n",
    "\n",
    "extract('stego.txt', 'extr_msg.txt')"
   ]
  },
  {
   "cell_type": "code",
   "execution_count": 15,
   "metadata": {},
   "outputs": [
    {
     "name": "stdout",
     "output_type": "stream",
     "text": [
      "a c\n"
     ]
    }
   ],
   "source": [
    "a = \"Hoang Minh Thanh\"\n",
    "c = [i for i in range(len(a)) if a[i] == \" \"]\n",
    "print(\"a{0}c\".format(a[c[0]]))"
   ]
  },
  {
   "cell_type": "code",
   "execution_count": 26,
   "metadata": {},
   "outputs": [
    {
     "data": {
      "text/plain": [
       "3"
      ]
     },
     "execution_count": 26,
     "metadata": {},
     "output_type": "execute_result"
    }
   ],
   "source": [
    "s =\"Hoang Minh Thanh\"\n",
    "c = s.split(\" \")\n",
    "c\n",
    "len(c)"
   ]
  },
  {
   "cell_type": "code",
   "execution_count": null,
   "metadata": {},
   "outputs": [],
   "source": []
  }
 ],
 "metadata": {
  "kernelspec": {
   "display_name": "Python 3",
   "language": "python",
   "name": "python3"
  },
  "language_info": {
   "codemirror_mode": {
    "name": "ipython",
    "version": 3
   },
   "file_extension": ".py",
   "mimetype": "text/x-python",
   "name": "python",
   "nbconvert_exporter": "python",
   "pygments_lexer": "ipython3",
   "version": "3.7.4"
  }
 },
 "nbformat": 4,
 "nbformat_minor": 4
}
